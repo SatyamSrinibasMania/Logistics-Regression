{
  "nbformat": 4,
  "nbformat_minor": 0,
  "metadata": {
    "colab": {
      "provenance": []
    },
    "kernelspec": {
      "name": "python3",
      "display_name": "Python 3"
    },
    "language_info": {
      "name": "python"
    }
  },
  "cells": [
    {
      "cell_type": "markdown",
      "source": [
        "#**LOGISTICS REGRESSION**"
      ],
      "metadata": {
        "id": "-TW-9Sm3Ub_5"
      }
    },
    {
      "cell_type": "markdown",
      "source": [
        "**THEORITICAL QUESTIONS**"
      ],
      "metadata": {
        "id": "ZSX0xOVLUb6K"
      }
    },
    {
      "cell_type": "markdown",
      "source": [
        "**1. What is Logistic Regression, and how does it differ from Linear Regression ?**\n",
        "\n",
        "- **Logistic Regression** is a supervised learning algorithm primarily used for **classification problems**, especially when the target variable is categorical with two classes (binary classification). It estimates the probability that a given input belongs to a particular class by modeling the relationship between the input features and the log-odds of the event occurring.\n",
        "\n",
        "- In contrast, **Linear Regression** is used for **regression problems**, where the target variable is continuous. It models the relationship between inputs and a continuous output by fitting a straight line (or hyperplane) through the data points.\n",
        "\n",
        "- **Key differences :**\n",
        "\n",
        " * **Output :**\n",
        "\n",
        "   * Linear Regression predicts continuous numeric values (like price, height).\n",
        "   \n",
        "   * Logistic Regression predicts the probability of class membership, which is bounded between 0 and 1.\n",
        "\n",
        " * **Function form :**\n",
        "\n",
        "   * Linear Regression uses a linear equation $y = \\beta_0 + \\beta_1 x_1 + \\cdots + \\beta_n x_n$.\n",
        "   \n",
        "   * Logistic Regression applies a **sigmoid function** to this linear combination to map predictions to probabilities.\n",
        "\n",
        " * **Loss function :**\n",
        "\n",
        "   * Linear Regression uses **Mean Squared Error** to minimize prediction errors.\n",
        "\n",
        "   * Logistic Regression uses **Cross-Entropy Loss (Log Loss)**, which measures the dissimilarity between predicted probabilities and true labels.\n",
        "\n",
        " * **Application :**\n",
        "\n",
        "   * Linear Regression for prediction and forecasting continuous values.\n",
        "  \n",
        "   * Logistic Regression for classification, such as spam detection, disease diagnosis, or customer churn prediction.\n",
        "\n",
        "**2. What is the mathematical equation of Logistic Regression ?**\n",
        "\n",
        "- Logistic regression models the probability that the dependent variable $y$ belongs to the positive class $(y=1)$, given the input features $\\mathbf{x}$.\n",
        "\n",
        "- **Step 1 : Compute the linear combination of inputs**\n",
        "\n",
        "$$\n",
        "z = \\beta_0 + \\beta_1 x_1 + \\beta_2 x_2 + \\cdots + \\beta_n x_n = \\mathbf{\\beta}^T \\mathbf{x}\n",
        "$$\n",
        "\n",
        "where $\\beta_0$ is the intercept and $\\beta_i$ are the coefficients.\n",
        "\n",
        "- **Step 2 : Apply the sigmoid (logistic) function to convert $z$ into a probability**\n",
        "\n",
        "$$\n",
        "P(y=1 | \\mathbf{x}) = \\sigma(z) = \\frac{1}{1 + e^{-z}} = \\frac{1}{1 + e^{-(\\beta_0 + \\sum_{i=1}^n \\beta_i x_i)}}\n",
        "$$\n",
        "\n",
        "The sigmoid function squashes any real number into the range (0, 1), making it interpretable as a probability.\n",
        "\n",
        "**3. Why do we use the Sigmoid function in Logistic Regression ?**\n",
        "\n",
        "- The **sigmoid function** is used because :\n",
        "\n",
        " * It **maps the linear output $z$** (which ranges from $-\\infty$ to $+\\infty$) to a **probability between 0 and 1**, enabling interpretation as the likelihood of class membership.\n",
        "\n",
        " * It produces an **S-shaped curve**, smoothly transitioning between values close to 0 for large negative inputs, and close to 1 for large positive inputs.\n",
        "\n",
        " * It is **differentiable everywhere**, which is crucial for optimization algorithms like gradient descent to calculate gradients and update model parameters.\n",
        "\n",
        " * Without the sigmoid, the model would predict values outside the \\[0, 1] interval, which are not valid probabilities.\n",
        "\n",
        "**4. What is the cost function of Logistic Regression ?**\n",
        "\n",
        "- The cost function measures how well the logistic regression model fits the training data by comparing predicted probabilities to actual class labels. It is called **Cross-Entropy Loss** or **Log Loss**, defined as :\n",
        "\n",
        "$$\n",
        "J(\\beta) = -\\frac{1}{m} \\sum_{i=1}^m \\left[ y^{(i)} \\log \\hat{y}^{(i)} + (1 - y^{(i)}) \\log (1 - \\hat{y}^{(i)}) \\right]\n",
        "$$\n",
        "\n",
        "- where :\n",
        "\n",
        " * $m$ is the number of training samples.\n",
        "\n",
        " * $y^{(i)} \\in \\{0, 1\\}$ is the true label.\n",
        "\n",
        " * $\\hat{y}^{(i)} = P(y=1 | \\mathbf{x}^{(i)})$ is the predicted probability.\n",
        "\n",
        "- **Intuition :**\n",
        "\n",
        " * When $y=1$, the first term $-\\log(\\hat{y})$ penalizes low predicted probabilities for the positive class.\n",
        "\n",
        " * When $y=0$, the second term $-\\log(1 - \\hat{y})$ penalizes high predicted probabilities for the negative class.\n",
        "\n",
        " * The loss is minimized when predicted probabilities match actual labels closely.\n",
        "\n",
        "**5. What is Regularization in Logistic Regression? Why is it needed ?**\n",
        "\n",
        "- **Regularization** is a technique that adds a penalty term to the cost function to discourage overly complex models and reduce overfitting. Overfitting happens when a model captures noise or random fluctuations in the training data rather than the underlying pattern, leading to poor generalization on new data.\n",
        "\n",
        "- **Why is regularization needed ?**\n",
        "\n",
        " * **Avoids overfitting :** By penalizing large coefficients, the model becomes simpler and more generalizable.\n",
        "\n",
        " * **Handles multicollinearity :** When predictors are highly correlated, regularization stabilizes coefficient estimates.\n",
        "\n",
        " * **Feature selection :** Certain types of regularization can shrink some coefficients exactly to zero, effectively selecting a subset of features.\n",
        "\n",
        "**6. Explain the difference between Lasso, Ridge, and Elastic Net regression.**\n",
        "\n",
        "* **Lasso (L1) Regularization:**\n",
        "   \n",
        "   - Adds a penalty equal to the **absolute values** of the coefficients :\n",
        "\n",
        "  $$\n",
        "  \\lambda \\sum_{i=1}^n |\\beta_i|\n",
        "  $$\n",
        "\n",
        "  Lasso can shrink some coefficients exactly to zero, performing **feature selection** and producing sparse models.\n",
        "\n",
        "* **Ridge (L2) Regularization:**\n",
        "   \n",
        "   - Adds a penalty equal to the **square of the coefficients :**\n",
        "\n",
        "  $$\n",
        "  \\lambda \\sum_{i=1}^n \\beta_i^2\n",
        "  $$\n",
        "\n",
        "  Ridge shrinks coefficients but does not set them exactly to zero. It’s good for reducing model complexity while keeping all features.\n",
        "\n",
        "* **Elastic Net Regularization :**\n",
        "   \n",
        "   - Combines L1 and L2 penalties :\n",
        "\n",
        "  $$\n",
        "  \\lambda \\left( \\alpha \\sum_{i=1}^n |\\beta_i| + (1-\\alpha) \\sum_{i=1}^n \\beta_i^2 \\right)\n",
        "  $$\n",
        "\n",
        "  Elastic Net balances between sparsity (like Lasso) and coefficient shrinkage (like Ridge), especially useful when predictors are highly correlated.\n",
        "\n",
        "**7. When should we use Elastic Net instead of Lasso or Ridge ?**\n",
        "\n",
        "- Use **Elastic Net** when :\n",
        "\n",
        " * Our data has **many correlated features**. Lasso may arbitrarily pick one feature and ignore others, while Elastic Net keeps groups of correlated features.\n",
        "\n",
        " * Pure Lasso leads to **unstable feature selection**.\n",
        "\n",
        " * We want a **balance** between feature selection and coefficient shrinkage.\n",
        "\n",
        " * The number of features is larger than the number of observations (high-dimensional data).\n",
        "\n",
        "**8. What is the impact of the regularization parameter ($\\lambda$) in Logistic Regression ?**\n",
        "\n",
        "- The parameter $\\lambda$ controls the **strength of the regularization penalty** :\n",
        "\n",
        " * **Large $\\lambda$ :** Strong regularization; coefficients shrink more aggressively towards zero; can cause underfitting if too large.\n",
        "\n",
        " * **Small $\\lambda$ :** Weak regularization; model may overfit training data; coefficients remain large.\n",
        "\n",
        "- Selecting the optimal $\\lambda$ balances the bias-variance tradeoff and is commonly done via **cross-validation**.\n",
        "\n",
        "**9. What are the key assumptions of Logistic Regression ?**\n",
        "\n",
        "* **Binary or categorical dependent variable :** The target variable is categorical.\n",
        "\n",
        "* **Linear relationship :** The log-odds of the outcome are linearly related to the predictor variables.\n",
        "\n",
        "* **Independence of observations :** Data samples are independent.\n",
        "\n",
        "* **No multicollinearity :** Predictors should not be highly correlated.\n",
        "\n",
        "* **Large sample size :** Logistic regression requires sufficient data to estimate parameters reliably.\n",
        "\n",
        "* **Absence of outliers :** Extreme outliers can distort the model.\n",
        "\n",
        "**10. What are some alternatives to Logistic Regression for classification tasks ?**\n",
        "\n",
        "* **Decision Trees :** Non-linear, interpretable models that split data based on feature thresholds.\n",
        "\n",
        "* **Random Forests :** Ensembles of decision trees for improved accuracy and robustness.\n",
        "\n",
        "* **Support Vector Machines (SVM) :** Finds hyperplanes maximizing class separation, effective in high-dimensional space.\n",
        "\n",
        "* **k-Nearest Neighbors (k-NN) :** Classifies based on the majority class of nearest neighbors.\n",
        "\n",
        "* **Naive Bayes :** Probabilistic classifier assuming feature independence.\n",
        "\n",
        "* **Neural Networks :** Highly flexible models for complex, non-linear relationships.\n",
        "\n",
        "* **Gradient Boosting Machines :** Powerful ensemble methods like XGBoost, LightGBM.\n",
        "\n",
        "**11. What are Classification Evaluation Metrics ?**\n",
        "\n",
        "* **Accuracy :** Proportion of correctly predicted instances.\n",
        "\n",
        "* **Precision :** Of the predicted positives, how many are true positives.\n",
        "\n",
        "* **Recall (Sensitivity) :** Of the actual positives, how many were identified.\n",
        "\n",
        "* **F1 Score :** Harmonic mean of precision and recall, useful for imbalanced datasets.\n",
        "\n",
        "* **Confusion Matrix :** Displays counts of TP, TN, FP, FN.\n",
        "\n",
        "* **ROC Curve :** Graph of True Positive Rate vs. False Positive Rate at various thresholds.\n",
        "\n",
        "* **AUC (Area Under the ROC Curve) :** Measures overall model discrimination capability.\n",
        "\n",
        "**12. How does class imbalance affect Logistic Regression ?**\n",
        "\n",
        "- Class imbalance occurs when one class significantly outnumbers the other(s). Effects include :\n",
        "\n",
        " * Model biases towards majority class.\n",
        "\n",
        " * Poor predictive performance on minority class.\n",
        "\n",
        " * Accuracy becomes misleading as the model may always predict the majority class.\n",
        "\n",
        "- **Solutions :**\n",
        "\n",
        " * Use evaluation metrics like precision, recall, and F1 score instead of accuracy.\n",
        "\n",
        " * Resample data (oversample minority, undersample majority).\n",
        "\n",
        " * Apply **class weights** to penalize misclassification of minority class more heavily.\n",
        "\n",
        "**13. What is Hyperparameter Tuning in Logistic Regression ?**\n",
        "\n",
        "- Hyperparameter tuning is the process of selecting the best model parameters, such as :\n",
        "\n",
        " * Regularization strength ($\\lambda$)\n",
        "\n",
        " * Type of regularization (L1, L2, Elastic Net)\n",
        "\n",
        " * Solver choice\n",
        "\n",
        "- Tuning is typically done through **grid search** or **random search** combined with **cross-validation** to maximize generalization performance.\n",
        "\n",
        "**14. What are different solvers in Logistic Regression? Which one should be used ?**\n",
        "\n",
        "- Solvers are algorithms that optimize the logistic regression cost function :\n",
        "\n",
        " * **liblinear :** Good for small datasets; supports L1 and L2 penalties.\n",
        "\n",
        " * **newton-cg :** Uses Newton’s method; efficient with L2.\n",
        "\n",
        " * **lbfgs :** Quasi-Newton method; fast for large datasets; supports L2.\n",
        "\n",
        " * **sag (Stochastic Average Gradient) :** Efficient for very large datasets with L2.\n",
        "\n",
        " * **saga :** Extension of sag; supports L1, L2, and Elastic Net.\n",
        "\n",
        "- **Choice depends on dataset size and penalty :**\n",
        "\n",
        " * For small datasets and L1 penalty : **liblinear**.\n",
        "\n",
        " * For large datasets and L2 : **lbfgs** or **sag/saga**.\n",
        "\n",
        " * For Elastic Net : **saga**.\n",
        "\n",
        "**15. How is Logistic Regression extended for multiclass classification ?**\n",
        "\n",
        "* **One-vs-Rest (OvR) :** Train a binary classifier per class, treating it as positive vs all others negative. Predict class with highest probability.\n",
        "\n",
        "* **Softmax Regression (Multinomial Logistic Regression) :** Directly models all classes simultaneously using the softmax function, which generalizes sigmoid to multiple classes.\n",
        "\n",
        "**16. What are the advantages and disadvantages of Logistic Regression ?**\n",
        "\n",
        "- **Advantages :**\n",
        "\n",
        " * Simple and easy to implement.\n",
        "\n",
        " * Outputs interpretable probabilities.\n",
        "\n",
        " * Computationally efficient.\n",
        "\n",
        " * Works well on linearly separable data.\n",
        "\n",
        " * Well-understood theory and diagnostics.\n",
        "\n",
        "- **Disadvantages :**\n",
        "\n",
        " * Assumes linear relationship between features and log-odds.\n",
        "\n",
        " * Poor performance on complex, non-linear problems.\n",
        "\n",
        " * Sensitive to outliers.\n",
        "\n",
        " * Requires large sample size.\n",
        "\n",
        " * Can struggle with multicollinearity.\n",
        "\n",
        "**17. How do you interpret the coefficients in Logistic Regression ?**\n",
        "\n",
        "* Coefficients represent the **change in the log-odds** of the outcome for a one-unit increase in the predictor, holding other variables constant.\n",
        "\n",
        "* Exponentiating the coefficient $e^{\\beta_i}$ gives the **odds ratio**, indicating how the odds of the positive class change.\n",
        "\n",
        "  * $e^{\\beta_i} > 1$ : Predictor increases odds.\n",
        "\n",
        "  * $e^{\\beta_i} < 1$ : Predictor decreases odds.\n",
        "\n",
        "* Helps understand feature importance and directionality.\n",
        "\n",
        "**18. What is the decision boundary in Logistic Regression ?**\n",
        "\n",
        "- The decision boundary is the **set of points where the model predicts a 50% probability**, i.e.,\n",
        "\n",
        "$$\n",
        "P(y=1|\\mathbf{x}) = 0.5\n",
        "$$\n",
        "\n",
        "Since the sigmoid function outputs 0.5 when $z = 0$,\n",
        "\n",
        "$$\n",
        "\\beta_0 + \\beta_1 x_1 + \\cdots + \\beta_n x_n = 0\n",
        "$$\n",
        "\n",
        "This boundary separates predicted classes and is **linear in the feature space**.\n",
        "\n",
        "**19. How can you handle non-linearity in Logistic Regression ?**\n",
        "\n",
        "* **Feature Engineering :** Create polynomial or interaction features to capture non-linear relationships.\n",
        "\n",
        "* **Use basis expansions :** Splines, piecewise functions.\n",
        "\n",
        "* **Kernel methods :** Though not standard in logistic regression, kernel logistic regression extends it non-linearly.\n",
        "\n",
        "* **Use non-linear classifiers :** Like decision trees, SVMs with kernels, or neural networks if non-linearity is too complex.\n",
        "\n",
        "**20. How do you check the goodness-of-fit of a Logistic Regression model ?**\n",
        "\n",
        "* **Likelihood Ratio Test :** Compares fitted model to a null model.\n",
        "\n",
        "* **Pseudo R-squared metrics :** Like McFadden’s $R^2$, indicating explanatory power.\n",
        "\n",
        "* **Hosmer-Lemeshow Test :** Tests if predicted probabilities match observed outcomes across groups.\n",
        "\n",
        "* **Confusion Matrix and classification metrics :** Assess accuracy and error.\n",
        "\n",
        "* **ROC curve and AUC :** Evaluate discrimination.\n",
        "\n",
        "* **Residual Analysis :** Examine deviance or Pearson residuals for model fit."
      ],
      "metadata": {
        "id": "ZvER6wZWU0fo"
      }
    },
    {
      "cell_type": "markdown",
      "source": [
        "**PRACTICAL QUESTIONS**"
      ],
      "metadata": {
        "id": "Yu4E9-ttUwsg"
      }
    },
    {
      "cell_type": "code",
      "source": [
        "# Importing Required Libraries\n",
        "\n",
        "import pandas as pd\n",
        "import numpy as np\n",
        "from sklearn.datasets import load_iris, load_breast_cancer\n",
        "from sklearn.model_selection import train_test_split, GridSearchCV, StratifiedKFold, cross_val_score, RandomizedSearchCV\n",
        "from sklearn.linear_model import LogisticRegression\n",
        "from sklearn.preprocessing import StandardScaler\n",
        "from sklearn.metrics import accuracy_score, precision_score, recall_score, f1_score, confusion_matrix, roc_auc_score\n",
        "from sklearn.metrics import classification_report, cohen_kappa_score, matthews_corrcoef, roc_curve, precision_recall_curve\n",
        "from sklearn.multiclass import OneVsOneClassifier\n",
        "import matplotlib.pyplot as plt\n",
        "import seaborn as sns\n",
        "import joblib\n"
      ],
      "metadata": {
        "id": "0WfbRCQnPsUA"
      },
      "execution_count": null,
      "outputs": []
    },
    {
      "cell_type": "markdown",
      "source": [
        "**1. Write a Python program that loads a dataset, splits it into training and testing sets, applies Logistic\n",
        "Regression, and prints the model accuracy.**"
      ],
      "metadata": {
        "id": "HcbrY7j0ciFo"
      }
    },
    {
      "cell_type": "code",
      "execution_count": null,
      "metadata": {
        "id": "q7W2XNEeTQsu",
        "colab": {
          "base_uri": "https://localhost:8080/"
        },
        "outputId": "c575c2db-9a3a-496c-dfa7-99bc894a65a2"
      },
      "outputs": [
        {
          "output_type": "stream",
          "name": "stdout",
          "text": [
            "Accuracy: 1.0\n"
          ]
        }
      ],
      "source": [
        "iris = load_iris()\n",
        "X, y = iris.data, iris.target\n",
        "X_train, X_test, y_train, y_test = train_test_split(X, y, test_size=0.3, random_state=42)\n",
        "model = LogisticRegression(max_iter=200)\n",
        "model.fit(X_train, y_train)\n",
        "print(\"Accuracy:\", accuracy_score(y_test, model.predict(X_test)))"
      ]
    },
    {
      "cell_type": "markdown",
      "source": [
        "**2.  Write a Python program to apply L1 regularization (Lasso) on a dataset using LogisticRegression(penalty='l1')\n",
        "and print the model accuracy.**"
      ],
      "metadata": {
        "id": "9T3EMH_WQXDz"
      }
    },
    {
      "cell_type": "code",
      "source": [
        "model_l1 = LogisticRegression(penalty='l1', solver='liblinear', max_iter=200)\n",
        "model_l1.fit(X_train, y_train)\n",
        "print(\"L1 Accuracy:\", accuracy_score(y_test, model_l1.predict(X_test)))"
      ],
      "metadata": {
        "colab": {
          "base_uri": "https://localhost:8080/"
        },
        "id": "CEO82qdRQaBe",
        "outputId": "9d2b0080-1dca-48b1-d6a8-fc6d016f33be"
      },
      "execution_count": null,
      "outputs": [
        {
          "output_type": "stream",
          "name": "stdout",
          "text": [
            "L1 Accuracy: 1.0\n"
          ]
        }
      ]
    },
    {
      "cell_type": "markdown",
      "source": [
        "**3. Write a Python program to train Logistic Regression with L2 regularization (Ridge) using\n",
        "LogisticRegression(penalty='l2'). Print model accuracy and coefficients.**"
      ],
      "metadata": {
        "id": "7XUM80-xQi7_"
      }
    },
    {
      "cell_type": "code",
      "source": [
        "model_l2 = LogisticRegression(penalty='l2', solver='liblinear', max_iter=200)\n",
        "model_l2.fit(X_train, y_train)\n",
        "print(\"L2 Accuracy:\", accuracy_score(y_test, model_l2.predict(X_test)))\n",
        "print(\"Coefficients:\", model_l2.coef_)"
      ],
      "metadata": {
        "colab": {
          "base_uri": "https://localhost:8080/"
        },
        "id": "jFZNRn3IQof-",
        "outputId": "024255b7-67d3-4038-f350-df5460a9c117"
      },
      "execution_count": null,
      "outputs": [
        {
          "output_type": "stream",
          "name": "stdout",
          "text": [
            "L2 Accuracy: 0.9777777777777777\n",
            "Coefficients: [[ 0.36479402  1.35499766 -2.09628559 -0.92154751]\n",
            " [ 0.4808915  -1.58463288  0.3937527  -1.09224057]\n",
            " [-1.5286415  -1.43244729  2.3048277   2.08584535]]\n"
          ]
        }
      ]
    },
    {
      "cell_type": "markdown",
      "source": [
        "**4. Write a Python program to train Logistic Regression with Elastic Net Regularization (penalty='elasticnet').**"
      ],
      "metadata": {
        "id": "AyCV3zXBQuDG"
      }
    },
    {
      "cell_type": "code",
      "source": [
        "model_elastic = LogisticRegression(penalty='elasticnet', solver='saga', l1_ratio=0.5, max_iter=200)\n",
        "model_elastic.fit(X_train, y_train)\n",
        "print(\"Elastic Net Accuracy:\", accuracy_score(y_test, model_elastic.predict(X_test)))"
      ],
      "metadata": {
        "colab": {
          "base_uri": "https://localhost:8080/"
        },
        "id": "IFz3C5laQ_Pg",
        "outputId": "099b5a54-e3c0-437e-fbd6-096f381a2f3b"
      },
      "execution_count": null,
      "outputs": [
        {
          "output_type": "stream",
          "name": "stdout",
          "text": [
            "Elastic Net Accuracy: 1.0\n"
          ]
        },
        {
          "output_type": "stream",
          "name": "stderr",
          "text": [
            "/usr/local/lib/python3.11/dist-packages/sklearn/linear_model/_sag.py:348: ConvergenceWarning: The max_iter was reached which means the coef_ did not converge\n",
            "  warnings.warn(\n"
          ]
        }
      ]
    },
    {
      "cell_type": "markdown",
      "source": [
        "**5. Write a Python program to train a Logistic Regression model for multiclass classification using\n",
        "multi_class='ovr'.**"
      ],
      "metadata": {
        "id": "fxTRfhtzRPZ_"
      }
    },
    {
      "cell_type": "code",
      "source": [
        "model_ovr = LogisticRegression(multi_class='ovr', solver='liblinear', max_iter=200)\n",
        "model_ovr.fit(X_train, y_train)\n",
        "print(\"OVR Accuracy:\", accuracy_score(y_test, model_ovr.predict(X_test)))"
      ],
      "metadata": {
        "colab": {
          "base_uri": "https://localhost:8080/"
        },
        "id": "r3h23Bi7RS_m",
        "outputId": "a65886bc-c427-470e-fa00-1a1360eaf6f3"
      },
      "execution_count": null,
      "outputs": [
        {
          "output_type": "stream",
          "name": "stdout",
          "text": [
            "OVR Accuracy: 0.9777777777777777\n"
          ]
        },
        {
          "output_type": "stream",
          "name": "stderr",
          "text": [
            "/usr/local/lib/python3.11/dist-packages/sklearn/linear_model/_logistic.py:1256: FutureWarning: 'multi_class' was deprecated in version 1.5 and will be removed in 1.7. Use OneVsRestClassifier(LogisticRegression(..)) instead. Leave it to its default value to avoid this warning.\n",
            "  warnings.warn(\n"
          ]
        }
      ]
    },
    {
      "cell_type": "markdown",
      "source": [
        "**6. Write a Python program to apply GridSearchCV to tune the hyperparameters (C and penalty) of Logistic Regression. Print the best parameters and accuracy.**"
      ],
      "metadata": {
        "id": "CZwvnOCXRgsx"
      }
    },
    {
      "cell_type": "code",
      "source": [
        "params = {'C': [0.1, 1, 10], 'penalty': ['l1', 'l2'], 'solver': ['liblinear']}\n",
        "grid = GridSearchCV(LogisticRegression(max_iter=200), params, cv=5)\n",
        "grid.fit(X_train, y_train)\n",
        "print(\"Best Params:\", grid.best_params_)\n",
        "print(\"Accuracy:\", accuracy_score(y_test, grid.predict(X_test)))"
      ],
      "metadata": {
        "colab": {
          "base_uri": "https://localhost:8080/"
        },
        "id": "PL2a3q17Rkwf",
        "outputId": "11ee61cb-5830-439b-f1c7-b88693933956"
      },
      "execution_count": null,
      "outputs": [
        {
          "output_type": "stream",
          "name": "stdout",
          "text": [
            "Best Params: {'C': 10, 'penalty': 'l2', 'solver': 'liblinear'}\n",
            "Accuracy: 1.0\n"
          ]
        }
      ]
    },
    {
      "cell_type": "markdown",
      "source": [
        "**7. Write a Python program to evaluate Logistic Regression using Stratified K-Fold Cross-Validation. Print the\n",
        "average accuracy.**"
      ],
      "metadata": {
        "id": "IDW6CAy8RrLe"
      }
    },
    {
      "cell_type": "code",
      "source": [
        "cv = StratifiedKFold(n_splits=5)\n",
        "scores = cross_val_score(LogisticRegression(max_iter=200), X, y, cv=cv)\n",
        "print(\"Stratified K-Fold Avg Accuracy:\", scores.mean())"
      ],
      "metadata": {
        "colab": {
          "base_uri": "https://localhost:8080/"
        },
        "id": "6hKQh0jSRu5w",
        "outputId": "27b65d92-6c15-498b-aca0-b50d33544164"
      },
      "execution_count": null,
      "outputs": [
        {
          "output_type": "stream",
          "name": "stdout",
          "text": [
            "Stratified K-Fold Avg Accuracy: 0.9733333333333334\n"
          ]
        }
      ]
    },
    {
      "cell_type": "markdown",
      "source": [
        "**8. Write a Python program to load a dataset from a CSV file, apply Logistic Regression, and evaluate its\n",
        "accuracy.**"
      ],
      "metadata": {
        "id": "OBiVKWBhRzLw"
      }
    },
    {
      "cell_type": "code",
      "source": [
        "# Replace 'our_file.csv' with our actual file\n",
        "# df = pd.read_csv('our_file.csv')\n",
        "# For demo: iris again\n",
        "iris = load_iris()\n",
        "X, y = iris.data, iris.target\n",
        "X_train, X_test, y_train, y_test = train_test_split(X, y, test_size=0.3, random_state=42)\n",
        "model_csv = LogisticRegression(max_iter=200)\n",
        "model_csv.fit(X_train, y_train)\n",
        "print(\"CSV Data Accuracy:\", accuracy_score(y_test, model_csv.predict(X_test)))"
      ],
      "metadata": {
        "colab": {
          "base_uri": "https://localhost:8080/"
        },
        "id": "3tBqusbXTcNV",
        "outputId": "b8feb7ac-63ca-43aa-9b41-280d3c00311f"
      },
      "execution_count": null,
      "outputs": [
        {
          "output_type": "stream",
          "name": "stdout",
          "text": [
            "CSV Data Accuracy: 1.0\n"
          ]
        }
      ]
    },
    {
      "cell_type": "markdown",
      "source": [
        "**9. Write a Python program to apply RandomizedSearchCV for tuning hyperparameters (C, penalty, solver) in\n",
        "Logistic Regression. Print the best parameters and accuracy.**"
      ],
      "metadata": {
        "id": "2HHvVMvZTnyt"
      }
    },
    {
      "cell_type": "code",
      "source": [
        "param_dist = {'C': np.logspace(-3, 3, 10), 'penalty': ['l1', 'l2'], 'solver': ['liblinear', 'saga']}\n",
        "random_search = RandomizedSearchCV(LogisticRegression(max_iter=200), param_dist, n_iter=10, cv=3)\n",
        "random_search.fit(X_train, y_train)\n",
        "print(\"Best Params:\", random_search.best_params_)\n",
        "print(\"Accuracy:\", accuracy_score(y_test, random_search.predict(X_test)))"
      ],
      "metadata": {
        "colab": {
          "base_uri": "https://localhost:8080/"
        },
        "collapsed": true,
        "id": "yxvixlCeTp6m",
        "outputId": "2db16d91-5921-4339-a4da-f4d0b5637155"
      },
      "execution_count": null,
      "outputs": [
        {
          "output_type": "stream",
          "name": "stdout",
          "text": [
            "Best Params: {'solver': 'saga', 'penalty': 'l2', 'C': np.float64(0.46415888336127775)}\n",
            "Accuracy: 1.0\n"
          ]
        },
        {
          "output_type": "stream",
          "name": "stderr",
          "text": [
            "/usr/local/lib/python3.11/dist-packages/sklearn/linear_model/_sag.py:348: ConvergenceWarning: The max_iter was reached which means the coef_ did not converge\n",
            "  warnings.warn(\n",
            "/usr/local/lib/python3.11/dist-packages/sklearn/linear_model/_sag.py:348: ConvergenceWarning: The max_iter was reached which means the coef_ did not converge\n",
            "  warnings.warn(\n",
            "/usr/local/lib/python3.11/dist-packages/sklearn/linear_model/_sag.py:348: ConvergenceWarning: The max_iter was reached which means the coef_ did not converge\n",
            "  warnings.warn(\n",
            "/usr/local/lib/python3.11/dist-packages/sklearn/linear_model/_sag.py:348: ConvergenceWarning: The max_iter was reached which means the coef_ did not converge\n",
            "  warnings.warn(\n",
            "/usr/local/lib/python3.11/dist-packages/sklearn/linear_model/_sag.py:348: ConvergenceWarning: The max_iter was reached which means the coef_ did not converge\n",
            "  warnings.warn(\n",
            "/usr/local/lib/python3.11/dist-packages/sklearn/linear_model/_sag.py:348: ConvergenceWarning: The max_iter was reached which means the coef_ did not converge\n",
            "  warnings.warn(\n",
            "/usr/local/lib/python3.11/dist-packages/sklearn/linear_model/_sag.py:348: ConvergenceWarning: The max_iter was reached which means the coef_ did not converge\n",
            "  warnings.warn(\n",
            "/usr/local/lib/python3.11/dist-packages/sklearn/linear_model/_sag.py:348: ConvergenceWarning: The max_iter was reached which means the coef_ did not converge\n",
            "  warnings.warn(\n",
            "/usr/local/lib/python3.11/dist-packages/sklearn/linear_model/_sag.py:348: ConvergenceWarning: The max_iter was reached which means the coef_ did not converge\n",
            "  warnings.warn(\n",
            "/usr/local/lib/python3.11/dist-packages/sklearn/linear_model/_sag.py:348: ConvergenceWarning: The max_iter was reached which means the coef_ did not converge\n",
            "  warnings.warn(\n",
            "/usr/local/lib/python3.11/dist-packages/sklearn/linear_model/_sag.py:348: ConvergenceWarning: The max_iter was reached which means the coef_ did not converge\n",
            "  warnings.warn(\n",
            "/usr/local/lib/python3.11/dist-packages/sklearn/linear_model/_sag.py:348: ConvergenceWarning: The max_iter was reached which means the coef_ did not converge\n",
            "  warnings.warn(\n",
            "/usr/local/lib/python3.11/dist-packages/sklearn/linear_model/_sag.py:348: ConvergenceWarning: The max_iter was reached which means the coef_ did not converge\n",
            "  warnings.warn(\n"
          ]
        }
      ]
    },
    {
      "cell_type": "markdown",
      "source": [
        "**10. Write a Python program to implement One-vs-One (OvO) Multiclass Logistic Regression and print accuracy.**"
      ],
      "metadata": {
        "id": "qz8PlemiTyD0"
      }
    },
    {
      "cell_type": "code",
      "source": [
        "ovo_model = OneVsOneClassifier(LogisticRegression(max_iter=200))\n",
        "ovo_model.fit(X_train, y_train)\n",
        "print(\"OvO Accuracy:\", accuracy_score(y_test, ovo_model.predict(X_test)))"
      ],
      "metadata": {
        "colab": {
          "base_uri": "https://localhost:8080/"
        },
        "id": "f7jVfQNlT0ZY",
        "outputId": "eda4c6d4-ae1f-4524-8f31-f75aa38541da"
      },
      "execution_count": null,
      "outputs": [
        {
          "output_type": "stream",
          "name": "stdout",
          "text": [
            "OvO Accuracy: 1.0\n"
          ]
        }
      ]
    },
    {
      "cell_type": "markdown",
      "source": [
        "**11. Write a Python program to train a Logistic Regression model and visualize the confusion matrix for binary\n",
        "classification.**"
      ],
      "metadata": {
        "id": "9wTVHk8LU-kg"
      }
    },
    {
      "cell_type": "code",
      "source": [
        "sns.heatmap(confusion_matrix(y_test, model.predict(X_test)), annot=True)\n",
        "plt.title(\"Confusion Matrix\")\n",
        "plt.show()"
      ],
      "metadata": {
        "colab": {
          "base_uri": "https://localhost:8080/",
          "height": 452
        },
        "id": "TF3ThZGOVJPi",
        "outputId": "20f648ca-c72d-4082-ca2f-ca6901b12872"
      },
      "execution_count": null,
      "outputs": [
        {
          "output_type": "display_data",
          "data": {
            "text/plain": [
              "<Figure size 640x480 with 2 Axes>"
            ],
            "image/png": "[encoded data removed]"
          },
          "metadata": {}
        }
      ]
    },
    {
      "cell_type": "markdown",
      "source": [
        "**12. Write a Python program to train a Logistic Regression model and evaluate its performance using Precision,\n",
        "Recall, and F1-Score.**"
      ],
      "metadata": {
        "id": "lQBs57lpU-hJ"
      }
    },
    {
      "cell_type": "code",
      "source": [
        "y_pred = model.predict(X_test)\n",
        "print(\"Precision:\", precision_score(y_test, y_pred, average='macro'))\n",
        "print(\"Recall:\", recall_score(y_test, y_pred, average='macro'))\n",
        "print(\"F1 Score:\", f1_score(y_test, y_pred, average='macro'))"
      ],
      "metadata": {
        "colab": {
          "base_uri": "https://localhost:8080/"
        },
        "id": "AMH4d2XQVN_d",
        "outputId": "ca42eeaa-1a57-41f1-c2e1-fbbbafcb1ffb"
      },
      "execution_count": null,
      "outputs": [
        {
          "output_type": "stream",
          "name": "stdout",
          "text": [
            "Precision: 1.0\n",
            "Recall: 1.0\n",
            "F1 Score: 1.0\n"
          ]
        }
      ]
    },
    {
      "cell_type": "markdown",
      "source": [
        "**13. Write a Python program to train a Logistic Regression model on imbalanced data and apply class weights to\n",
        "improve model performance.**"
      ],
      "metadata": {
        "id": "LrVA7fGjU-d8"
      }
    },
    {
      "cell_type": "code",
      "source": [
        "# Simulating imbalance with binary classification\n",
        "X_bin = X[y != 2]\n",
        "y_bin = y[y != 2]\n",
        "model_weighted = LogisticRegression(class_weight='balanced')\n",
        "model_weighted.fit(X_bin, y_bin)\n",
        "print(\"Weighted Accuracy:\", accuracy_score(y_bin, model_weighted.predict(X_bin)))"
      ],
      "metadata": {
        "colab": {
          "base_uri": "https://localhost:8080/"
        },
        "id": "Oo_eUvObVRv9",
        "outputId": "a740f2f5-2da6-4219-aadd-ded1bb58497a"
      },
      "execution_count": null,
      "outputs": [
        {
          "output_type": "stream",
          "name": "stdout",
          "text": [
            "Weighted Accuracy: 1.0\n"
          ]
        }
      ]
    },
    {
      "cell_type": "markdown",
      "source": [
        "**14. Write a Python program to train Logistic Regression on the Titanic dataset, handle missing values, and\n",
        "evaluate performance.**"
      ],
      "metadata": {
        "id": "wFTXTR5jU-ap"
      }
    },
    {
      "cell_type": "code",
      "source": [
        "# df = pd.read_csv('titanic.csv')\n",
        "# df = df.fillna(df.mean(numeric_only=True))\n",
        "# X = df[['Age', 'Fare', 'Pclass']]; y = df['Survived']\n",
        "# model.fit(X, y)\n",
        "# print(\"Titanic Accuracy:\", accuracy_score(y, model.predict(X)))\n",
        "print(\"Placeholder for Titanic dataset processing.\")"
      ],
      "metadata": {
        "colab": {
          "base_uri": "https://localhost:8080/"
        },
        "id": "UuQIDdu5VYd6",
        "outputId": "b667916b-d694-4cc2-a9b4-00b0b1d8793f"
      },
      "execution_count": null,
      "outputs": [
        {
          "output_type": "stream",
          "name": "stdout",
          "text": [
            "Placeholder for Titanic dataset processing.\n"
          ]
        }
      ]
    },
    {
      "cell_type": "markdown",
      "source": [
        "**15. Write a Python program to apply feature scaling (Standardization) before training a Logistic Regression\n",
        "model. Evaluate its accuracy and compare results with and without scaling.**"
      ],
      "metadata": {
        "id": "KmaE3DEaU-XV"
      }
    },
    {
      "cell_type": "code",
      "source": [
        "scaler = StandardScaler()\n",
        "X_scaled = scaler.fit_transform(X)\n",
        "model_scaled = LogisticRegression(max_iter=200)\n",
        "model_scaled.fit(X_scaled, y)\n",
        "print(\"Accuracy With Scaling:\", accuracy_score(y, model_scaled.predict(X_scaled)))"
      ],
      "metadata": {
        "colab": {
          "base_uri": "https://localhost:8080/"
        },
        "id": "Mwr4dL2tVcHJ",
        "outputId": "2d249837-eb55-4b24-fce5-fa01cf6c42d9"
      },
      "execution_count": null,
      "outputs": [
        {
          "output_type": "stream",
          "name": "stdout",
          "text": [
            "Accuracy With Scaling: 0.9733333333333334\n"
          ]
        }
      ]
    },
    {
      "cell_type": "markdown",
      "source": [
        "**16. Write a Python program to train Logistic Regression and evaluate its performance using ROC-AUC score.**"
      ],
      "metadata": {
        "id": "pWN3yALLU-UT"
      }
    },
    {
      "cell_type": "code",
      "source": [
        "cancer = load_breast_cancer()\n",
        "X_c, y_c = cancer.data, cancer.target\n",
        "X_train_c, X_test_c, y_train_c, y_test_c = train_test_split(X_c, y_c, test_size=0.3, random_state=42)\n",
        "model_roc = LogisticRegression(max_iter=200)\n",
        "model_roc.fit(X_train_c, y_train_c)\n",
        "probs = model_roc.predict_proba(X_test_c)[:,1]\n",
        "print(\"ROC AUC Score:\", roc_auc_score(y_test_c, probs))"
      ],
      "metadata": {
        "colab": {
          "base_uri": "https://localhost:8080/"
        },
        "id": "9Lz7tJZxViDI",
        "outputId": "14e620b0-4191-4368-ce29-11d4d2d7b8ed"
      },
      "execution_count": null,
      "outputs": [
        {
          "output_type": "stream",
          "name": "stdout",
          "text": [
            "ROC AUC Score: 0.9977954144620812\n"
          ]
        },
        {
          "output_type": "stream",
          "name": "stderr",
          "text": [
            "/usr/local/lib/python3.11/dist-packages/sklearn/linear_model/_logistic.py:465: ConvergenceWarning: lbfgs failed to converge (status=1):\n",
            "STOP: TOTAL NO. OF ITERATIONS REACHED LIMIT.\n",
            "\n",
            "Increase the number of iterations (max_iter) or scale the data as shown in:\n",
            "    https://scikit-learn.org/stable/modules/preprocessing.html\n",
            "Please also refer to the documentation for alternative solver options:\n",
            "    https://scikit-learn.org/stable/modules/linear_model.html#logistic-regression\n",
            "  n_iter_i = _check_optimize_result(\n"
          ]
        }
      ]
    },
    {
      "cell_type": "markdown",
      "source": [
        "**17. Write a Python program to train Logistic Regression using a custom learning rate (C=0.5) and evaluate\n",
        "accuracy.**"
      ],
      "metadata": {
        "id": "4kllU9UfU-Q-"
      }
    },
    {
      "cell_type": "code",
      "source": [
        "model_c = LogisticRegression(C=0.5, max_iter=200)\n",
        "model_c.fit(X_train, y_train)\n",
        "print(\"C=0.5 Accuracy:\", accuracy_score(y_test, model_c.predict(X_test)))"
      ],
      "metadata": {
        "colab": {
          "base_uri": "https://localhost:8080/"
        },
        "id": "vLNov9mmVm74",
        "outputId": "2ad4ed12-4779-4b45-898b-77227f0849ed"
      },
      "execution_count": null,
      "outputs": [
        {
          "output_type": "stream",
          "name": "stdout",
          "text": [
            "C=0.5 Accuracy: 1.0\n"
          ]
        }
      ]
    },
    {
      "cell_type": "markdown",
      "source": [
        "**18. Write a Python program to train Logistic Regression and identify important features based on model\n",
        "coefficients.**"
      ],
      "metadata": {
        "id": "M2qQtb68U-Ns"
      }
    },
    {
      "cell_type": "code",
      "source": [
        "importance = model.coef_[0]\n",
        "print(\"Feature Importances:\", importance)"
      ],
      "metadata": {
        "colab": {
          "base_uri": "https://localhost:8080/"
        },
        "id": "_UhFC6wdVqld",
        "outputId": "66635073-f0a3-4cf5-99b4-a5b629fd8257"
      },
      "execution_count": null,
      "outputs": [
        {
          "output_type": "stream",
          "name": "stdout",
          "text": [
            "Feature Importances: [-0.40538546  0.86892246 -2.2778749  -0.95680114]\n"
          ]
        }
      ]
    },
    {
      "cell_type": "markdown",
      "source": [
        "**19.  Write a Python program to train Logistic Regression and evaluate its performance using Cohen’s Kappa\n",
        "Score.**"
      ],
      "metadata": {
        "id": "lItudrFYU-KE"
      }
    },
    {
      "cell_type": "code",
      "source": [
        "print(\"Cohen's Kappa:\", cohen_kappa_score(y_test, y_pred))"
      ],
      "metadata": {
        "colab": {
          "base_uri": "https://localhost:8080/"
        },
        "id": "FJogEmroVuY8",
        "outputId": "24f315f2-d6c6-4089-9069-55db903bb88b"
      },
      "execution_count": null,
      "outputs": [
        {
          "output_type": "stream",
          "name": "stdout",
          "text": [
            "Cohen's Kappa: 1.0\n"
          ]
        }
      ]
    },
    {
      "cell_type": "markdown",
      "source": [
        "**20.  Write a Python program to train Logistic Regression and visualize the Precision-Recall Curve for binary\n",
        "classification.**"
      ],
      "metadata": {
        "id": "EJP2IeVvU-HM"
      }
    },
    {
      "cell_type": "code",
      "source": [
        "prec, rec, _ = precision_recall_curve(y_test_c, probs)\n",
        "plt.plot(rec, prec)\n",
        "plt.title(\"Precision-Recall Curve\")\n",
        "plt.xlabel(\"Recall\")\n",
        "plt.ylabel(\"Precision\")\n",
        "plt.show()"
      ],
      "metadata": {
        "colab": {
          "base_uri": "https://localhost:8080/",
          "height": 472
        },
        "id": "1lWEhlRdV2Z4",
        "outputId": "bd842978-c376-4d53-ae5d-1ab1106a5f62"
      },
      "execution_count": null,
      "outputs": [
        {
          "output_type": "display_data",
          "data": {
            "text/plain": [
              "<Figure size 640x480 with 1 Axes>"
            ],
            "image/png": "[encoded data removed]"
          },
          "metadata": {}
        }
      ]
    },
    {
      "cell_type": "markdown",
      "source": [
        "**21. Write a Python program to train Logistic Regression with different solvers (liblinear, saga, lbfgs) and compare their accuracy.**"
      ],
      "metadata": {
        "id": "QcdMjCSaU-EI"
      }
    },
    {
      "cell_type": "code",
      "source": [
        "for solver in ['liblinear', 'saga', 'lbfgs']:\n",
        "    model_solver = LogisticRegression(solver=solver, max_iter=200)\n",
        "    model_solver.fit(X_train, y_train)\n",
        "    acc = accuracy_score(y_test, model_solver.predict(X_test))\n",
        "    print(f\"Solver: {solver}, Accuracy: {acc}\")"
      ],
      "metadata": {
        "colab": {
          "base_uri": "https://localhost:8080/"
        },
        "id": "-uTwshcJV7A_",
        "outputId": "8e61a1a3-5a45-4d7b-e81e-9fb9c44ed60b"
      },
      "execution_count": null,
      "outputs": [
        {
          "output_type": "stream",
          "name": "stdout",
          "text": [
            "Solver: liblinear, Accuracy: 0.9777777777777777\n",
            "Solver: saga, Accuracy: 1.0\n",
            "Solver: lbfgs, Accuracy: 1.0\n"
          ]
        },
        {
          "output_type": "stream",
          "name": "stderr",
          "text": [
            "/usr/local/lib/python3.11/dist-packages/sklearn/linear_model/_sag.py:348: ConvergenceWarning: The max_iter was reached which means the coef_ did not converge\n",
            "  warnings.warn(\n"
          ]
        }
      ]
    },
    {
      "cell_type": "markdown",
      "source": [
        "**22. Write a Python program to train Logistic Regression and evaluate its performance using Matthews\n",
        "Correlation Coefficient (MCC).**"
      ],
      "metadata": {
        "id": "aZPUn9csU-Ai"
      }
    },
    {
      "cell_type": "code",
      "source": [
        "print(\"MCC:\", matthews_corrcoef(y_test, y_pred))"
      ],
      "metadata": {
        "colab": {
          "base_uri": "https://localhost:8080/"
        },
        "id": "AHNuZjgcV_e4",
        "outputId": "885031a5-97c0-4291-a1d6-ae7eb1b4fce7"
      },
      "execution_count": null,
      "outputs": [
        {
          "output_type": "stream",
          "name": "stdout",
          "text": [
            "MCC: 1.0\n"
          ]
        }
      ]
    },
    {
      "cell_type": "markdown",
      "source": [
        "**23. Write a Python program to train Logistic Regression on both raw and standardized data. Compare their\n",
        "accuracy to see the impact of feature scaling.**"
      ],
      "metadata": {
        "id": "bvlc3wX2U99B"
      }
    },
    {
      "cell_type": "code",
      "source": [
        "raw_model = LogisticRegression(max_iter=200).fit(X, y)\n",
        "std_model = LogisticRegression(max_iter=200).fit(StandardScaler().fit_transform(X), y)\n",
        "print(\"Raw Accuracy:\", accuracy_score(y, raw_model.predict(X)))\n",
        "print(\"Scaled Accuracy:\", accuracy_score(y, std_model.predict(StandardScaler().fit_transform(X))))"
      ],
      "metadata": {
        "colab": {
          "base_uri": "https://localhost:8080/"
        },
        "id": "gYF2N1XMWDeg",
        "outputId": "61e70c48-da2b-420a-99c6-cb6b7977dce9"
      },
      "execution_count": null,
      "outputs": [
        {
          "output_type": "stream",
          "name": "stdout",
          "text": [
            "Raw Accuracy: 0.9733333333333334\n",
            "Scaled Accuracy: 0.9733333333333334\n"
          ]
        }
      ]
    },
    {
      "cell_type": "markdown",
      "source": [
        "**24. Write a Python program to train Logistic Regression and find the optimal C (regularization strength) using cross-validation.**"
      ],
      "metadata": {
        "id": "wJEak12RU95c"
      }
    },
    {
      "cell_type": "code",
      "source": [
        "Cs = [0.01, 0.1, 1, 10]\n",
        "scores = [cross_val_score(LogisticRegression(C=c, max_iter=200), X, y, cv=5).mean() for c in Cs]\n",
        "best_C= Cs[np.argmax(scores)]\n",
        "print(\"Best C:\", best_C)"
      ],
      "metadata": {
        "colab": {
          "base_uri": "https://localhost:8080/"
        },
        "id": "V9EX3DEVWI1L",
        "outputId": "1269ba2a-198a-47a0-a3e8-c81c48111222"
      },
      "execution_count": null,
      "outputs": [
        {
          "output_type": "stream",
          "name": "stdout",
          "text": [
            "Best C: 1\n"
          ]
        }
      ]
    },
    {
      "cell_type": "markdown",
      "source": [
        "**25. Write a Python program to train Logistic Regression, save the trained model using joblib, and load it again to make predictions.**"
      ],
      "metadata": {
        "id": "cHNw9MpiU91w"
      }
    },
    {
      "cell_type": "code",
      "source": [
        "joblib.dump(model, \"logreg_model.joblib\")\n",
        "loaded_model = joblib.load(\"logreg_model.joblib\")\n",
        "print(\"Loaded Model Accuracy:\", accuracy_score(y_test, loaded_model.predict(X_test)))"
      ],
      "metadata": {
        "colab": {
          "base_uri": "https://localhost:8080/"
        },
        "id": "YU45BDsrWPIz",
        "outputId": "e3e9ea66-2de8-4f4d-8ff2-bcc20bc41647"
      },
      "execution_count": null,
      "outputs": [
        {
          "output_type": "stream",
          "name": "stdout",
          "text": [
            "Loaded Model Accuracy: 1.0\n"
          ]
        }
      ]
    }
  ]
}